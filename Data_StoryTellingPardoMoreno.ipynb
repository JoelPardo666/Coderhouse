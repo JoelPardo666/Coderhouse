{
 "cells": [
  {
   "cell_type": "code",
   "execution_count": 1,
   "id": "5ba62942-83be-4878-9edf-326f0c39a535",
   "metadata": {},
   "outputs": [],
   "source": [
    "# Tratamiento de datos\n",
    "# ==============================================================================\n",
    "import numpy as np\n",
    "import pandas as pd\n",
    "import string\n",
    "import re\n",
    "\n",
    "# Gráficos\n",
    "# ==============================================================================\n",
    "import matplotlib.pyplot as plt\n",
    "from matplotlib import style\n",
    "import seaborn as sns\n",
    "#style.use('ggplot') or plt.style.use('ggplot')\n",
    "\n",
    "# Preprocesado y modelado\n",
    "# ==============================================================================\n",
    "from sklearn import svm\n",
    "from sklearn.model_selection import train_test_split\n",
    "from sklearn.model_selection import GridSearchCV\n",
    "from sklearn.metrics import confusion_matrix\n",
    "from sklearn.feature_extraction.text import TfidfVectorizer\n",
    "import nltk\n",
    "#nltk.download('stopwords')\n",
    "from nltk.corpus import stopwords\n",
    "\n",
    "# Configuración warnings\n",
    "# ==============================================================================\n",
    "import warnings\n",
    "warnings.filterwarnings('ignore')"
   ]
  },
  {
   "cell_type": "code",
   "execution_count": 6,
   "id": "2ba62d3a-5bcf-4720-95b2-0ff15e76eb5b",
   "metadata": {},
   "outputs": [
    {
     "name": "stdout",
     "output_type": "stream",
     "text": [
      "Número de tweets @BillGates: 2087\n",
      "Número de tweets @elonmusk: 2678\n"
     ]
    }
   ],
   "source": [
    "# Lectura de datos\n",
    "# ==============================================================================\n",
    "tweets_elon   = pd.read_csv(\"D:\\\\Downloads\\\\datos_tweets_elonmusk.csv\")\n",
    "tweets_bgates = pd.read_csv(\"D:\\\\Downloads\\\\datos_tweets_BillGates.csv\")\n",
    "\n",
    "print('Número de tweets @BillGates: ' + str(tweets_bgates.shape[0]))\n",
    "print('Número de tweets @elonmusk: ' + str(tweets_elon.shape[0]))"
   ]
  },
  {
   "cell_type": "code",
   "execution_count": 7,
   "id": "d7f8b5eb-7066-4c6c-af85-f695e6348272",
   "metadata": {},
   "outputs": [
    {
     "data": {
      "text/html": [
       "<div>\n",
       "<style scoped>\n",
       "    .dataframe tbody tr th:only-of-type {\n",
       "        vertical-align: middle;\n",
       "    }\n",
       "\n",
       "    .dataframe tbody tr th {\n",
       "        vertical-align: top;\n",
       "    }\n",
       "\n",
       "    .dataframe thead th {\n",
       "        text-align: right;\n",
       "    }\n",
       "</style>\n",
       "<table border=\"1\" class=\"dataframe\">\n",
       "  <thead>\n",
       "    <tr style=\"text-align: right;\">\n",
       "      <th></th>\n",
       "      <th>autor</th>\n",
       "      <th>fecha</th>\n",
       "      <th>id</th>\n",
       "      <th>texto</th>\n",
       "    </tr>\n",
       "  </thead>\n",
       "  <tbody>\n",
       "    <tr>\n",
       "      <th>0</th>\n",
       "      <td>elonmusk</td>\n",
       "      <td>2017-11-09 17:28:57+00:00</td>\n",
       "      <td>9.286758e+17</td>\n",
       "      <td>\"If one day, my words are against science, cho...</td>\n",
       "    </tr>\n",
       "    <tr>\n",
       "      <th>1</th>\n",
       "      <td>elonmusk</td>\n",
       "      <td>2017-11-09 17:12:46+00:00</td>\n",
       "      <td>9.286717e+17</td>\n",
       "      <td>I placed the flowers\\r\\n\\r\\nThree broken ribs\\...</td>\n",
       "    </tr>\n",
       "    <tr>\n",
       "      <th>2</th>\n",
       "      <td>elonmusk</td>\n",
       "      <td>2017-11-08 18:55:13+00:00</td>\n",
       "      <td>9.283351e+17</td>\n",
       "      <td>Atatürk Anıtkabir https://t.co/al3wt0njr6</td>\n",
       "    </tr>\n",
       "  </tbody>\n",
       "</table>\n",
       "</div>"
      ],
      "text/plain": [
       "      autor                     fecha            id  \\\n",
       "0  elonmusk 2017-11-09 17:28:57+00:00  9.286758e+17   \n",
       "1  elonmusk 2017-11-09 17:12:46+00:00  9.286717e+17   \n",
       "2  elonmusk 2017-11-08 18:55:13+00:00  9.283351e+17   \n",
       "\n",
       "                                               texto  \n",
       "0  \"If one day, my words are against science, cho...  \n",
       "1  I placed the flowers\\r\\n\\r\\nThree broken ribs\\...  \n",
       "2          Atatürk Anıtkabir https://t.co/al3wt0njr6  "
      ]
     },
     "execution_count": 7,
     "metadata": {},
     "output_type": "execute_result"
    }
   ],
   "source": [
    "# Se unen los dos dataframes en uno solo\n",
    "tweets = pd.concat([tweets_elon, tweets_bgates], ignore_index=True)\n",
    "\n",
    "# Se seleccionan y renombran las columnas de interés\n",
    "tweets = tweets[['screen_name', 'created_at', 'status_id', 'text']]\n",
    "tweets.columns = ['autor', 'fecha', 'id', 'texto']\n",
    "\n",
    "# Parseo de fechas\n",
    "tweets['fecha'] = pd.to_datetime(tweets['fecha'])\n",
    "tweets.head(3)"
   ]
  },
  {
   "cell_type": "code",
   "execution_count": 8,
   "id": "05986561-6257-4fce-b0e1-093a9ac34c6b",
   "metadata": {},
   "outputs": [
    {
     "data": {
      "image/png": "[encoded data removed]",
      "text/plain": [
       "<Figure size 648x288 with 1 Axes>"
      ]
     },
     "metadata": {
      "needs_background": "light"
     },
     "output_type": "display_data"
    }
   ],
   "source": [
    "# Distribución temporal de los tweets\n",
    "# ==============================================================================\n",
    "fig, ax = plt.subplots(figsize=(9,4))\n",
    "\n",
    "for autor in tweets.autor.unique():\n",
    "    df_temp = tweets[tweets['autor'] == autor].copy()\n",
    "    df_temp['fecha'] = pd.to_datetime(df_temp['fecha'].dt.strftime('%Y-%m'))\n",
    "    df_temp = df_temp.groupby(df_temp['fecha']).size()\n",
    "    df_temp.plot(label=autor, ax=ax)\n",
    "\n",
    "ax.set_title('Número de tweets publicados por mes')\n",
    "ax.legend();"
   ]
  },
  {
   "cell_type": "code",
   "execution_count": 9,
   "id": "5839ebaa-6da5-4382-ba39-1ab3bacbd9a2",
   "metadata": {},
   "outputs": [
    {
     "name": "stdout",
     "output_type": "stream",
     "text": [
      "Esto es 1 ejemplo de l'limpieza de6 TEXTO  https://t.co/rnHPgyhx4Z @cienciadedatos #textmining\n",
      "['esto', 'es', 'ejemplo', 'de', 'limpieza', 'de', 'texto', 'cienciadedatos', 'textmining']\n"
     ]
    }
   ],
   "source": [
    "def limpiar_tokenizar(texto):\n",
    "    '''\n",
    "    Esta función limpia y tokeniza el texto en palabras individuales.\n",
    "    El orden en el que se va limpiando el texto no es arbitrario.\n",
    "    El listado de signos de puntuación se ha obtenido de: print(string.punctuation)\n",
    "    y re.escape(string.punctuation)\n",
    "    '''\n",
    "    \n",
    "    # Se convierte todo el texto a minúsculas\n",
    "    nuevo_texto = texto.lower()\n",
    "    # Eliminación de páginas web (palabras que empiezan por \"http\")\n",
    "    nuevo_texto = re.sub('http\\S+', ' ', nuevo_texto)\n",
    "    # Eliminación de signos de puntuación\n",
    "    regex = '[\\\\!\\\\\"\\\\#\\\\$\\\\%\\\\&\\\\\\'\\\\(\\\\)\\\\*\\\\+\\\\,\\\\-\\\\.\\\\/\\\\:\\\\;\\\\<\\\\=\\\\>\\\\?\\\\@\\\\[\\\\\\\\\\\\]\\\\^_\\\\`\\\\{\\\\|\\\\}\\\\~]'\n",
    "    nuevo_texto = re.sub(regex , ' ', nuevo_texto)\n",
    "    # Eliminación de números\n",
    "    nuevo_texto = re.sub(\"\\d+\", ' ', nuevo_texto)\n",
    "    # Eliminación de espacios en blanco múltiples\n",
    "    nuevo_texto = re.sub(\"\\\\s+\", ' ', nuevo_texto)\n",
    "    # Tokenización por palabras individuales\n",
    "    nuevo_texto = nuevo_texto.split(sep = ' ')\n",
    "    # Eliminación de tokens con una longitud < 2\n",
    "    nuevo_texto = [token for token in nuevo_texto if len(token) > 1]\n",
    "    \n",
    "    return(nuevo_texto)\n",
    "\n",
    "test = \"Esto es 1 ejemplo de l'limpieza de6 TEXTO  https://t.co/rnHPgyhx4Z @cienciadedatos #textmining\"\n",
    "print(test)\n",
    "print(limpiar_tokenizar(texto=test))"
   ]
  },
  {
   "cell_type": "code",
   "execution_count": 10,
   "id": "8fac29c9-8233-470f-b0e9-f940fcdac71c",
   "metadata": {},
   "outputs": [
    {
     "data": {
      "text/html": [
       "<div>\n",
       "<style scoped>\n",
       "    .dataframe tbody tr th:only-of-type {\n",
       "        vertical-align: middle;\n",
       "    }\n",
       "\n",
       "    .dataframe tbody tr th {\n",
       "        vertical-align: top;\n",
       "    }\n",
       "\n",
       "    .dataframe thead th {\n",
       "        text-align: right;\n",
       "    }\n",
       "</style>\n",
       "<table border=\"1\" class=\"dataframe\">\n",
       "  <thead>\n",
       "    <tr style=\"text-align: right;\">\n",
       "      <th></th>\n",
       "      <th>texto</th>\n",
       "      <th>texto_tokenizado</th>\n",
       "    </tr>\n",
       "  </thead>\n",
       "  <tbody>\n",
       "    <tr>\n",
       "      <th>0</th>\n",
       "      <td>\"If one day, my words are against science, cho...</td>\n",
       "      <td>[if, one, day, my, words, are, against, scienc...</td>\n",
       "    </tr>\n",
       "    <tr>\n",
       "      <th>1</th>\n",
       "      <td>I placed the flowers\\r\\n\\r\\nThree broken ribs\\...</td>\n",
       "      <td>[placed, the, flowers, three, broken, ribs, pi...</td>\n",
       "    </tr>\n",
       "    <tr>\n",
       "      <th>2</th>\n",
       "      <td>Atatürk Anıtkabir https://t.co/al3wt0njr6</td>\n",
       "      <td>[atatürk, anıtkabir]</td>\n",
       "    </tr>\n",
       "    <tr>\n",
       "      <th>3</th>\n",
       "      <td>@Bob_Richards One rocket, slightly toasted</td>\n",
       "      <td>[bob, richards, one, rocket, slightly, toasted]</td>\n",
       "    </tr>\n",
       "    <tr>\n",
       "      <th>4</th>\n",
       "      <td>@uncover007 500 ft so far. Should be 2 miles l...</td>\n",
       "      <td>[uncover, ft, so, far, should, be, miles, long...</td>\n",
       "    </tr>\n",
       "  </tbody>\n",
       "</table>\n",
       "</div>"
      ],
      "text/plain": [
       "                                               texto  \\\n",
       "0  \"If one day, my words are against science, cho...   \n",
       "1  I placed the flowers\\r\\n\\r\\nThree broken ribs\\...   \n",
       "2          Atatürk Anıtkabir https://t.co/al3wt0njr6   \n",
       "3         @Bob_Richards One rocket, slightly toasted   \n",
       "4  @uncover007 500 ft so far. Should be 2 miles l...   \n",
       "\n",
       "                                    texto_tokenizado  \n",
       "0  [if, one, day, my, words, are, against, scienc...  \n",
       "1  [placed, the, flowers, three, broken, ribs, pi...  \n",
       "2                               [atatürk, anıtkabir]  \n",
       "3    [bob, richards, one, rocket, slightly, toasted]  \n",
       "4  [uncover, ft, so, far, should, be, miles, long...  "
      ]
     },
     "execution_count": 10,
     "metadata": {},
     "output_type": "execute_result"
    }
   ],
   "source": [
    "# Se aplica la función de limpieza y tokenización a cada tweet\n",
    "# ==============================================================================\n",
    "tweets['texto_tokenizado'] = tweets['texto'].apply(lambda x: limpiar_tokenizar(x))\n",
    "tweets[['texto', 'texto_tokenizado']].head()"
   ]
  },
  {
   "cell_type": "code",
   "execution_count": 11,
   "id": "c5a50079-2793-4ceb-a4a5-e2d58fcb2240",
   "metadata": {},
   "outputs": [],
   "source": [
    "# Unnest de la columna texto_tokenizado\n",
    "# ==============================================================================\n",
    "tweets_tidy = tweets.explode(column='texto_tokenizado')\n",
    "tweets_tidy = tweets_tidy.drop(columns='texto')\n",
    "tweets_tidy = tweets_tidy.rename(columns={'texto_tokenizado':'token'})"
   ]
  },
  {
   "cell_type": "code",
   "execution_count": 12,
   "id": "dea50a4a-9ddf-4149-a1d1-220a152babe5",
   "metadata": {},
   "outputs": [
    {
     "data": {
      "text/html": [
       "<div>\n",
       "<style scoped>\n",
       "    .dataframe tbody tr th:only-of-type {\n",
       "        vertical-align: middle;\n",
       "    }\n",
       "\n",
       "    .dataframe tbody tr th {\n",
       "        vertical-align: top;\n",
       "    }\n",
       "\n",
       "    .dataframe thead th {\n",
       "        text-align: right;\n",
       "    }\n",
       "</style>\n",
       "<table border=\"1\" class=\"dataframe\">\n",
       "  <thead>\n",
       "    <tr style=\"text-align: right;\">\n",
       "      <th></th>\n",
       "      <th>autor</th>\n",
       "      <th>fecha</th>\n",
       "      <th>id</th>\n",
       "      <th>token</th>\n",
       "    </tr>\n",
       "  </thead>\n",
       "  <tbody>\n",
       "    <tr>\n",
       "      <th>0</th>\n",
       "      <td>elonmusk</td>\n",
       "      <td>2017-11-09 17:28:57+00:00</td>\n",
       "      <td>9.286758e+17</td>\n",
       "      <td>if</td>\n",
       "    </tr>\n",
       "    <tr>\n",
       "      <th>0</th>\n",
       "      <td>elonmusk</td>\n",
       "      <td>2017-11-09 17:28:57+00:00</td>\n",
       "      <td>9.286758e+17</td>\n",
       "      <td>one</td>\n",
       "    </tr>\n",
       "    <tr>\n",
       "      <th>0</th>\n",
       "      <td>elonmusk</td>\n",
       "      <td>2017-11-09 17:28:57+00:00</td>\n",
       "      <td>9.286758e+17</td>\n",
       "      <td>day</td>\n",
       "    </tr>\n",
       "    <tr>\n",
       "      <th>0</th>\n",
       "      <td>elonmusk</td>\n",
       "      <td>2017-11-09 17:28:57+00:00</td>\n",
       "      <td>9.286758e+17</td>\n",
       "      <td>my</td>\n",
       "    </tr>\n",
       "    <tr>\n",
       "      <th>0</th>\n",
       "      <td>elonmusk</td>\n",
       "      <td>2017-11-09 17:28:57+00:00</td>\n",
       "      <td>9.286758e+17</td>\n",
       "      <td>words</td>\n",
       "    </tr>\n",
       "    <tr>\n",
       "      <th>...</th>\n",
       "      <td>...</td>\n",
       "      <td>...</td>\n",
       "      <td>...</td>\n",
       "      <td>...</td>\n",
       "    </tr>\n",
       "    <tr>\n",
       "      <th>4764</th>\n",
       "      <td>BillGates</td>\n",
       "      <td>2011-09-29 21:11:15+00:00</td>\n",
       "      <td>1.195196e+17</td>\n",
       "      <td>efforts</td>\n",
       "    </tr>\n",
       "    <tr>\n",
       "      <th>4764</th>\n",
       "      <td>BillGates</td>\n",
       "      <td>2011-09-29 21:11:15+00:00</td>\n",
       "      <td>1.195196e+17</td>\n",
       "      <td>to</td>\n",
       "    </tr>\n",
       "    <tr>\n",
       "      <th>4764</th>\n",
       "      <td>BillGates</td>\n",
       "      <td>2011-09-29 21:11:15+00:00</td>\n",
       "      <td>1.195196e+17</td>\n",
       "      <td>finish</td>\n",
       "    </tr>\n",
       "    <tr>\n",
       "      <th>4764</th>\n",
       "      <td>BillGates</td>\n",
       "      <td>2011-09-29 21:11:15+00:00</td>\n",
       "      <td>1.195196e+17</td>\n",
       "      <td>the</td>\n",
       "    </tr>\n",
       "    <tr>\n",
       "      <th>4764</th>\n",
       "      <td>BillGates</td>\n",
       "      <td>2011-09-29 21:11:15+00:00</td>\n",
       "      <td>1.195196e+17</td>\n",
       "      <td>job</td>\n",
       "    </tr>\n",
       "  </tbody>\n",
       "</table>\n",
       "<p>65117 rows × 4 columns</p>\n",
       "</div>"
      ],
      "text/plain": [
       "          autor                     fecha            id    token\n",
       "0      elonmusk 2017-11-09 17:28:57+00:00  9.286758e+17       if\n",
       "0      elonmusk 2017-11-09 17:28:57+00:00  9.286758e+17      one\n",
       "0      elonmusk 2017-11-09 17:28:57+00:00  9.286758e+17      day\n",
       "0      elonmusk 2017-11-09 17:28:57+00:00  9.286758e+17       my\n",
       "0      elonmusk 2017-11-09 17:28:57+00:00  9.286758e+17    words\n",
       "...         ...                       ...           ...      ...\n",
       "4764  BillGates 2011-09-29 21:11:15+00:00  1.195196e+17  efforts\n",
       "4764  BillGates 2011-09-29 21:11:15+00:00  1.195196e+17       to\n",
       "4764  BillGates 2011-09-29 21:11:15+00:00  1.195196e+17   finish\n",
       "4764  BillGates 2011-09-29 21:11:15+00:00  1.195196e+17      the\n",
       "4764  BillGates 2011-09-29 21:11:15+00:00  1.195196e+17      job\n",
       "\n",
       "[65117 rows x 4 columns]"
      ]
     },
     "execution_count": 12,
     "metadata": {},
     "output_type": "execute_result"
    }
   ],
   "source": [
    "tweets_tidy"
   ]
  },
  {
   "cell_type": "code",
   "execution_count": 13,
   "id": "67b90814-baa4-433e-a52e-277e6e55a2ed",
   "metadata": {},
   "outputs": [
    {
     "name": "stdout",
     "output_type": "stream",
     "text": [
      "--------------------------\n",
      "Palabras totales por autor\n",
      "--------------------------\n"
     ]
    },
    {
     "data": {
      "text/plain": [
       "autor\n",
       "BillGates    31500\n",
       "elonmusk     33609\n",
       "Name: token, dtype: int64"
      ]
     },
     "execution_count": 13,
     "metadata": {},
     "output_type": "execute_result"
    }
   ],
   "source": [
    "# Palabras totales utilizadas por cada autor\n",
    "# ==============================================================================\n",
    "print('--------------------------')\n",
    "print('Palabras totales por autor')\n",
    "print('--------------------------')\n",
    "tweets_tidy.groupby(by='autor')['token'].count()"
   ]
  },
  {
   "cell_type": "code",
   "execution_count": 14,
   "id": "05bbaae1-7f9d-4467-a29c-4fd98da0fc21",
   "metadata": {},
   "outputs": [
    {
     "name": "stdout",
     "output_type": "stream",
     "text": [
      "----------------------------\n",
      "Palabras distintas por autor\n",
      "----------------------------\n"
     ]
    },
    {
     "data": {
      "text/plain": [
       "autor\n",
       "BillGates    4848\n",
       "elonmusk     6628\n",
       "Name: token, dtype: int64"
      ]
     },
     "execution_count": 14,
     "metadata": {},
     "output_type": "execute_result"
    }
   ],
   "source": [
    "# Palabras distintas utilizadas por cada autor\n",
    "# ==============================================================================\n",
    "print('----------------------------')\n",
    "print('Palabras distintas por autor')\n",
    "print('----------------------------')\n",
    "tweets_tidy.groupby(by='autor')['token'].nunique()"
   ]
  },
  {
   "cell_type": "code",
   "execution_count": 15,
   "id": "b811b8e0-f100-47b2-a009-50b67a46f112",
   "metadata": {},
   "outputs": [
    {
     "data": {
      "text/html": [
       "<div>\n",
       "<style scoped>\n",
       "    .dataframe tbody tr th:only-of-type {\n",
       "        vertical-align: middle;\n",
       "    }\n",
       "\n",
       "    .dataframe tbody tr th {\n",
       "        vertical-align: top;\n",
       "    }\n",
       "\n",
       "    .dataframe thead th {\n",
       "        text-align: right;\n",
       "    }\n",
       "</style>\n",
       "<table border=\"1\" class=\"dataframe\">\n",
       "  <thead>\n",
       "    <tr style=\"text-align: right;\">\n",
       "      <th></th>\n",
       "      <th>mean</th>\n",
       "      <th>std</th>\n",
       "    </tr>\n",
       "    <tr>\n",
       "      <th>autor</th>\n",
       "      <th></th>\n",
       "      <th></th>\n",
       "    </tr>\n",
       "  </thead>\n",
       "  <tbody>\n",
       "    <tr>\n",
       "      <th>BillGates</th>\n",
       "      <td>15.144231</td>\n",
       "      <td>3.347354</td>\n",
       "    </tr>\n",
       "    <tr>\n",
       "      <th>elonmusk</th>\n",
       "      <td>12.611257</td>\n",
       "      <td>6.933870</td>\n",
       "    </tr>\n",
       "  </tbody>\n",
       "</table>\n",
       "</div>"
      ],
      "text/plain": [
       "                mean       std\n",
       "autor                         \n",
       "BillGates  15.144231  3.347354\n",
       "elonmusk   12.611257  6.933870"
      ]
     },
     "execution_count": 15,
     "metadata": {},
     "output_type": "execute_result"
    }
   ],
   "source": [
    "# Longitud media y desviación de los tweets de cada autor\n",
    "# ==============================================================================\n",
    "temp_df = pd.DataFrame(tweets_tidy.groupby(by = [\"autor\", \"id\"])[\"token\"].count())\n",
    "temp_df.reset_index().groupby(\"autor\")[\"token\"].agg(['mean', 'std'])"
   ]
  },
  {
   "cell_type": "code",
   "execution_count": 16,
   "id": "6cd9801c-86ee-4f9d-8603-565b3baeb86f",
   "metadata": {},
   "outputs": [
    {
     "data": {
      "text/html": [
       "<div>\n",
       "<style scoped>\n",
       "    .dataframe tbody tr th:only-of-type {\n",
       "        vertical-align: middle;\n",
       "    }\n",
       "\n",
       "    .dataframe tbody tr th {\n",
       "        vertical-align: top;\n",
       "    }\n",
       "\n",
       "    .dataframe thead th {\n",
       "        text-align: right;\n",
       "    }\n",
       "</style>\n",
       "<table border=\"1\" class=\"dataframe\">\n",
       "  <thead>\n",
       "    <tr style=\"text-align: right;\">\n",
       "      <th></th>\n",
       "      <th></th>\n",
       "      <th>autor</th>\n",
       "      <th>token</th>\n",
       "      <th>count</th>\n",
       "    </tr>\n",
       "    <tr>\n",
       "      <th>autor</th>\n",
       "      <th></th>\n",
       "      <th></th>\n",
       "      <th></th>\n",
       "      <th></th>\n",
       "    </tr>\n",
       "  </thead>\n",
       "  <tbody>\n",
       "    <tr>\n",
       "      <th rowspan=\"5\" valign=\"top\">BillGates</th>\n",
       "      <th>4195</th>\n",
       "      <td>BillGates</td>\n",
       "      <td>the</td>\n",
       "      <td>1178</td>\n",
       "    </tr>\n",
       "    <tr>\n",
       "      <th>4271</th>\n",
       "      <td>BillGates</td>\n",
       "      <td>to</td>\n",
       "      <td>1115</td>\n",
       "    </tr>\n",
       "    <tr>\n",
       "      <th>2930</th>\n",
       "      <td>BillGates</td>\n",
       "      <td>of</td>\n",
       "      <td>669</td>\n",
       "    </tr>\n",
       "    <tr>\n",
       "      <th>2084</th>\n",
       "      <td>BillGates</td>\n",
       "      <td>in</td>\n",
       "      <td>590</td>\n",
       "    </tr>\n",
       "    <tr>\n",
       "      <th>2207</th>\n",
       "      <td>BillGates</td>\n",
       "      <td>is</td>\n",
       "      <td>452</td>\n",
       "    </tr>\n",
       "    <tr>\n",
       "      <th rowspan=\"5\" valign=\"top\">elonmusk</th>\n",
       "      <th>10699</th>\n",
       "      <td>elonmusk</td>\n",
       "      <td>the</td>\n",
       "      <td>983</td>\n",
       "    </tr>\n",
       "    <tr>\n",
       "      <th>10816</th>\n",
       "      <td>elonmusk</td>\n",
       "      <td>to</td>\n",
       "      <td>913</td>\n",
       "    </tr>\n",
       "    <tr>\n",
       "      <th>8859</th>\n",
       "      <td>elonmusk</td>\n",
       "      <td>of</td>\n",
       "      <td>638</td>\n",
       "    </tr>\n",
       "    <tr>\n",
       "      <th>7801</th>\n",
       "      <td>elonmusk</td>\n",
       "      <td>is</td>\n",
       "      <td>542</td>\n",
       "    </tr>\n",
       "    <tr>\n",
       "      <th>7656</th>\n",
       "      <td>elonmusk</td>\n",
       "      <td>in</td>\n",
       "      <td>476</td>\n",
       "    </tr>\n",
       "  </tbody>\n",
       "</table>\n",
       "</div>"
      ],
      "text/plain": [
       "                     autor token  count\n",
       "autor                                  \n",
       "BillGates 4195   BillGates   the   1178\n",
       "          4271   BillGates    to   1115\n",
       "          2930   BillGates    of    669\n",
       "          2084   BillGates    in    590\n",
       "          2207   BillGates    is    452\n",
       "elonmusk  10699   elonmusk   the    983\n",
       "          10816   elonmusk    to    913\n",
       "          8859    elonmusk    of    638\n",
       "          7801    elonmusk    is    542\n",
       "          7656    elonmusk    in    476"
      ]
     },
     "execution_count": 16,
     "metadata": {},
     "output_type": "execute_result"
    }
   ],
   "source": [
    "# Top 5 palabras más utilizadas por cada autor\n",
    "# ==============================================================================\n",
    "tweets_tidy.groupby(['autor','token'])['token'] \\\n",
    " .count() \\\n",
    " .reset_index(name='count') \\\n",
    " .groupby('autor') \\\n",
    " .apply(lambda x: x.sort_values('count', ascending=False).head(5))"
   ]
  },
  {
   "cell_type": "code",
   "execution_count": 17,
   "id": "6797e501-e545-4eeb-a4c1-afadd4b7fc37",
   "metadata": {},
   "outputs": [
    {
     "name": "stdout",
     "output_type": "stream",
     "text": [
      "['i', 'me', 'my', 'myself', 'we', 'our', 'ours', 'ourselves', 'you', \"you're\"]\n"
     ]
    }
   ],
   "source": [
    "# Obtención de listado de stopwords del inglés\n",
    "# ==============================================================================\n",
    "stop_words = list(stopwords.words('english'))\n",
    "# Se añade la stoprword: amp, ax, ex\n",
    "stop_words.extend((\"amp\", \"xa\", \"xe\"))\n",
    "print(stop_words[:10])"
   ]
  },
  {
   "cell_type": "code",
   "execution_count": 18,
   "id": "c200f1ac-4137-412c-838f-ada7b80c9d2d",
   "metadata": {},
   "outputs": [],
   "source": [
    "# Filtrado para excluir stopwords\n",
    "# ==============================================================================\n",
    "tweets_tidy = tweets_tidy[~(tweets_tidy[\"token\"].isin(stop_words))]"
   ]
  },
  {
   "cell_type": "code",
   "execution_count": 20,
   "id": "f02b1670-a4ac-4a76-9360-ad4512c0ede3",
   "metadata": {},
   "outputs": [
    {
     "data": {
      "image/png": "[encoded data removed]",
      "text/plain": [
       "<Figure size 432x504 with 2 Axes>"
      ]
     },
     "metadata": {
      "needs_background": "light"
     },
     "output_type": "display_data"
    }
   ],
   "source": [
    "# Top 10 palabras por autor (sin stopwords)\n",
    "# ==============================================================================\n",
    "fig, axs = plt.subplots(nrows=2, ncols=1,figsize=(6, 7))\n",
    "for i, autor in enumerate(tweets_tidy.autor.unique()):\n",
    "    df_temp = tweets_tidy[tweets_tidy.autor == autor]\n",
    "    counts  = df_temp['token'].value_counts(ascending=False).head(10)\n",
    "    counts.plot(kind='barh', color='firebrick', ax=axs[i])\n",
    "    axs[i].invert_yaxis()\n",
    "    axs[i].set_title(autor)\n",
    "\n",
    "fig.tight_layout()"
   ]
  },
  {
   "cell_type": "code",
   "execution_count": 21,
   "id": "788ce411-486b-4419-96a6-41167b5ff1a4",
   "metadata": {},
   "outputs": [],
   "source": [
    "# Pivotado de datos\n",
    "# ==============================================================================\n",
    "tweets_pivot = tweets_tidy.groupby([\"autor\",\"token\"])[\"token\"] \\\n",
    "                .agg([\"count\"]).reset_index() \\\n",
    "                .pivot(index = \"token\" , columns=\"autor\", values= \"count\")\n",
    "tweets_pivot.columns.name = None"
   ]
  },
  {
   "cell_type": "code",
   "execution_count": 22,
   "id": "7afe75ee-3e32-4c34-acce-a193ad562361",
   "metadata": {},
   "outputs": [
    {
     "data": {
      "text/html": [
       "<div>\n",
       "<style scoped>\n",
       "    .dataframe tbody tr th:only-of-type {\n",
       "        vertical-align: middle;\n",
       "    }\n",
       "\n",
       "    .dataframe tbody tr th {\n",
       "        vertical-align: top;\n",
       "    }\n",
       "\n",
       "    .dataframe thead th {\n",
       "        text-align: right;\n",
       "    }\n",
       "</style>\n",
       "<table border=\"1\" class=\"dataframe\">\n",
       "  <thead>\n",
       "    <tr style=\"text-align: right;\">\n",
       "      <th></th>\n",
       "      <th>BillGates</th>\n",
       "      <th>elonmusk</th>\n",
       "    </tr>\n",
       "  </thead>\n",
       "  <tbody>\n",
       "    <tr>\n",
       "      <th>BillGates</th>\n",
       "      <td>1.000000</td>\n",
       "      <td>0.567274</td>\n",
       "    </tr>\n",
       "    <tr>\n",
       "      <th>elonmusk</th>\n",
       "      <td>0.567274</td>\n",
       "      <td>1.000000</td>\n",
       "    </tr>\n",
       "  </tbody>\n",
       "</table>\n",
       "</div>"
      ],
      "text/plain": [
       "           BillGates  elonmusk\n",
       "BillGates   1.000000  0.567274\n",
       "elonmusk    0.567274  1.000000"
      ]
     },
     "execution_count": 22,
     "metadata": {},
     "output_type": "execute_result"
    }
   ],
   "source": [
    "# Test de correlación (coseno) por el uso y frecuencia de palabras\n",
    "# ==============================================================================\n",
    "from scipy.spatial.distance import cosine\n",
    "\n",
    "def similitud_coseno(a,b):\n",
    "    distancia = cosine(a,b)\n",
    "    return 1-distancia\n",
    "\n",
    "tweets_pivot.corr(method=similitud_coseno)"
   ]
  },
  {
   "cell_type": "code",
   "execution_count": 23,
   "id": "c7bdddd9-5373-46d2-b55c-82636e026948",
   "metadata": {},
   "outputs": [
    {
     "data": {
      "image/png": "[encoded data removed]",
      "text/plain": [
       "<Figure size 432x288 with 1 Axes>"
      ]
     },
     "metadata": {
      "needs_background": "light"
     },
     "output_type": "display_data"
    }
   ],
   "source": [
    "# Gráfico de correlación\n",
    "# ==============================================================================\n",
    "f, ax = plt.subplots(figsize=(6, 4))\n",
    "temp = tweets_pivot.dropna()\n",
    "sns.regplot(\n",
    "    x  = np.log(temp.elonmusk),\n",
    "    y  = np.log(temp.BillGates),\n",
    "    scatter_kws =  {'alpha': 0.05},\n",
    "    ax = ax\n",
    ");\n",
    "for i in np.random.choice(range(temp.shape[0]), 100):\n",
    "    ax.annotate(\n",
    "        text  = temp.index[i],\n",
    "        xy    = (np.log(temp.elonmusk[i]), np.log(temp.BillGates[i])),\n",
    "        alpha = 0.7\n",
    "    )"
   ]
  },
  {
   "cell_type": "code",
   "execution_count": 25,
   "id": "0ae5b19d-21f5-4592-8723-ea8e3d59ca4b",
   "metadata": {},
   "outputs": [
    {
     "data": {
      "text/html": [
       "<div>\n",
       "<style scoped>\n",
       "    .dataframe tbody tr th:only-of-type {\n",
       "        vertical-align: middle;\n",
       "    }\n",
       "\n",
       "    .dataframe tbody tr th {\n",
       "        vertical-align: top;\n",
       "    }\n",
       "\n",
       "    .dataframe thead th {\n",
       "        text-align: right;\n",
       "    }\n",
       "</style>\n",
       "<table border=\"1\" class=\"dataframe\">\n",
       "  <thead>\n",
       "    <tr style=\"text-align: right;\">\n",
       "      <th></th>\n",
       "      <th>termino</th>\n",
       "      <th>sentimiento</th>\n",
       "    </tr>\n",
       "  </thead>\n",
       "  <tbody>\n",
       "    <tr>\n",
       "      <th>0</th>\n",
       "      <td>abandon</td>\n",
       "      <td>-2</td>\n",
       "    </tr>\n",
       "    <tr>\n",
       "      <th>1</th>\n",
       "      <td>abandoned</td>\n",
       "      <td>-2</td>\n",
       "    </tr>\n",
       "    <tr>\n",
       "      <th>2</th>\n",
       "      <td>abandons</td>\n",
       "      <td>-2</td>\n",
       "    </tr>\n",
       "    <tr>\n",
       "      <th>3</th>\n",
       "      <td>abducted</td>\n",
       "      <td>-2</td>\n",
       "    </tr>\n",
       "    <tr>\n",
       "      <th>4</th>\n",
       "      <td>abduction</td>\n",
       "      <td>-2</td>\n",
       "    </tr>\n",
       "  </tbody>\n",
       "</table>\n",
       "</div>"
      ],
      "text/plain": [
       "     termino  sentimiento\n",
       "0    abandon           -2\n",
       "1  abandoned           -2\n",
       "2   abandons           -2\n",
       "3   abducted           -2\n",
       "4  abduction           -2"
      ]
     },
     "execution_count": 25,
     "metadata": {},
     "output_type": "execute_result"
    }
   ],
   "source": [
    "# Descarga lexicon sentimientos\n",
    "# ==============================================================================\n",
    "lexicon = pd.read_table(\n",
    "            'https://raw.githubusercontent.com/fnielsen/afinn/master/afinn/data/AFINN-en-165.txt',\n",
    "            names = ['termino', 'sentimiento']\n",
    "          )\n",
    "lexicon.head()"
   ]
  },
  {
   "cell_type": "code",
   "execution_count": 26,
   "id": "25bc1d91-a62a-4df1-9a87-e0e1a3f46531",
   "metadata": {},
   "outputs": [
    {
     "data": {
      "text/html": [
       "<div>\n",
       "<style scoped>\n",
       "    .dataframe tbody tr th:only-of-type {\n",
       "        vertical-align: middle;\n",
       "    }\n",
       "\n",
       "    .dataframe tbody tr th {\n",
       "        vertical-align: top;\n",
       "    }\n",
       "\n",
       "    .dataframe thead th {\n",
       "        text-align: right;\n",
       "    }\n",
       "</style>\n",
       "<table border=\"1\" class=\"dataframe\">\n",
       "  <thead>\n",
       "    <tr style=\"text-align: right;\">\n",
       "      <th></th>\n",
       "      <th>autor</th>\n",
       "      <th>fecha</th>\n",
       "      <th>id</th>\n",
       "      <th>sentimiento</th>\n",
       "    </tr>\n",
       "  </thead>\n",
       "  <tbody>\n",
       "    <tr>\n",
       "      <th>0</th>\n",
       "      <td>BillGates</td>\n",
       "      <td>2011-09-29 21:11:15+00:00</td>\n",
       "      <td>1.195196e+17</td>\n",
       "      <td>6</td>\n",
       "    </tr>\n",
       "    <tr>\n",
       "      <th>1</th>\n",
       "      <td>BillGates</td>\n",
       "      <td>2011-10-04 19:06:05+00:00</td>\n",
       "      <td>1.213001e+17</td>\n",
       "      <td>-3</td>\n",
       "    </tr>\n",
       "    <tr>\n",
       "      <th>2</th>\n",
       "      <td>BillGates</td>\n",
       "      <td>2011-10-06 00:37:29+00:00</td>\n",
       "      <td>1.217459e+17</td>\n",
       "      <td>3</td>\n",
       "    </tr>\n",
       "    <tr>\n",
       "      <th>3</th>\n",
       "      <td>BillGates</td>\n",
       "      <td>2011-10-06 00:38:09+00:00</td>\n",
       "      <td>1.217460e+17</td>\n",
       "      <td>6</td>\n",
       "    </tr>\n",
       "    <tr>\n",
       "      <th>4</th>\n",
       "      <td>BillGates</td>\n",
       "      <td>2011-10-19 22:12:21+00:00</td>\n",
       "      <td>1.267828e+17</td>\n",
       "      <td>3</td>\n",
       "    </tr>\n",
       "  </tbody>\n",
       "</table>\n",
       "</div>"
      ],
      "text/plain": [
       "       autor                     fecha            id  sentimiento\n",
       "0  BillGates 2011-09-29 21:11:15+00:00  1.195196e+17            6\n",
       "1  BillGates 2011-10-04 19:06:05+00:00  1.213001e+17           -3\n",
       "2  BillGates 2011-10-06 00:37:29+00:00  1.217459e+17            3\n",
       "3  BillGates 2011-10-06 00:38:09+00:00  1.217460e+17            6\n",
       "4  BillGates 2011-10-19 22:12:21+00:00  1.267828e+17            3"
      ]
     },
     "execution_count": 26,
     "metadata": {},
     "output_type": "execute_result"
    }
   ],
   "source": [
    "# Sentimiento promedio de cada tweet\n",
    "# ==============================================================================\n",
    "tweets_sentimientos = pd.merge(\n",
    "                            left     = tweets_tidy,\n",
    "                            right    = lexicon,\n",
    "                            left_on  = \"token\", \n",
    "                            right_on = \"termino\",\n",
    "                            how      = \"inner\"\n",
    "                      )\n",
    "\n",
    "tweets_sentimientos = tweets_sentimientos.drop(columns = \"termino\")\n",
    "\n",
    "# Se suman los sentimientos de las palabras que forman cada tweet.\n",
    "tweets_sentimientos = tweets_sentimientos[[\"autor\",\"fecha\", \"id\", \"sentimiento\"]] \\\n",
    "                      .groupby([\"autor\", \"fecha\", \"id\"])\\\n",
    "                      .sum().reset_index()\n",
    "tweets_sentimientos.head()"
   ]
  },
  {
   "cell_type": "code",
   "execution_count": 27,
   "id": "c22cd712-1cb1-4cee-8b98-819fe2fd8936",
   "metadata": {},
   "outputs": [
    {
     "name": "stdout",
     "output_type": "stream",
     "text": [
      "BillGates\n",
      "============\n",
      "Positivos: 79.88\n",
      "Neutros  : 4.59\n",
      "Negativos: 15.52\n",
      " \n",
      "elonmusk\n",
      "============\n",
      "Positivos: 73.14\n",
      "Neutros  : 4.29\n",
      "Negativos: 22.57\n",
      " \n"
     ]
    }
   ],
   "source": [
    "def perfil_sentimientos(df):\n",
    "    print(autor)\n",
    "    print(\"=\" * 12)\n",
    "    print(f\"Positivos: {round(100 * np.mean(df.sentimiento > 0), 2)}\")\n",
    "    print(f\"Neutros  : {round(100 * np.mean(df.sentimiento == 0), 2)}\")\n",
    "    print(f\"Negativos: {round(100 * np.mean(df.sentimiento < 0), 2)}\")\n",
    "    print(\" \")\n",
    "\n",
    "for autor, df in tweets_sentimientos.groupby(\"autor\"):\n",
    "    perfil_sentimientos(df)"
   ]
  },
  {
   "cell_type": "code",
   "execution_count": 28,
   "id": "8f61af15-1576-41a3-be10-45da4d71977c",
   "metadata": {},
   "outputs": [
    {
     "data": {
      "image/png": "[encoded data removed]",
      "text/plain": [
       "<Figure size 504x288 with 1 Axes>"
      ]
     },
     "metadata": {
      "needs_background": "light"
     },
     "output_type": "display_data"
    }
   ],
   "source": [
    "fig, ax = plt.subplots(figsize=(7, 4)) \n",
    "\n",
    "for autor in tweets_sentimientos.autor.unique():\n",
    "    df = tweets_sentimientos[tweets_sentimientos.autor == autor].copy()\n",
    "    df = df.set_index(\"fecha\")\n",
    "    df = df[['sentimiento']].resample('1M').mean()\n",
    "    ax.plot(df.index, df.sentimiento, label=autor)\n",
    "\n",
    "ax.set_title(\"Sentimiento promedio de los tweets por mes\")\n",
    "ax.legend();"
   ]
  },
  {
   "cell_type": "code",
   "execution_count": null,
   "id": "2a00c6cf-c023-41e0-acdd-8f26272be6f3",
   "metadata": {},
   "outputs": [],
   "source": []
  }
 ],
 "metadata": {
  "kernelspec": {
   "display_name": "Python 3 (ipykernel)",
   "language": "python",
   "name": "python3"
  },
  "language_info": {
   "codemirror_mode": {
    "name": "ipython",
    "version": 3
   },
   "file_extension": ".py",
   "mimetype": "text/x-python",
   "name": "python",
   "nbconvert_exporter": "python",
   "pygments_lexer": "ipython3",
   "version": "3.9.12"
  }
 },
 "nbformat": 4,
 "nbformat_minor": 5
}
